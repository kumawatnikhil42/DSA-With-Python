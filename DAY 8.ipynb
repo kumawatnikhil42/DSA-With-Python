{
 "cells": [
  {
   "cell_type": "markdown",
   "id": "676c091a",
   "metadata": {},
   "source": [
    "# Hashing\n",
    "\n",
    "\n",
    "It provides fast searching."
   ]
  },
  {
   "cell_type": "code",
   "execution_count": 94,
   "id": "04944656",
   "metadata": {},
   "outputs": [],
   "source": [
    "# create hash function using dictionary\n",
    "class Dictionary:\n",
    "    \n",
    "    def __init__(self,size):\n",
    "        self.size = size \n",
    "        self.slots = [None] * self.size\n",
    "        self.data = [None] * self.size\n",
    "        \n",
    "    def put(self,key,value):\n",
    "        hash_value = self.hash_function(key)\n",
    "        if self.slots[hash_value] == None:\n",
    "            self.slots[hash_value] = key\n",
    "            self.data[hash_value] = value\n",
    "        else:\n",
    "            if self.slots[hash_value] == key:\n",
    "                self.data[hash_value] = value\n",
    "            else:\n",
    "                new_hash_value = self.rehash(hash_value)\n",
    "                \n",
    "                while self.slots[new_hash_value] != None and self.slots[new_hash_value] != key:\n",
    "                    new_hash_value = self.rehash(new_hash_value)\n",
    "                \n",
    "                if self.slots[new_hash_value] == None:\n",
    "                    self.slots[new_hash_value] = key\n",
    "                    self.data[new_hash_value] = value\n",
    "                \n",
    "                else:\n",
    "                    self.data[new_hash_value] = value\n",
    "                    \n",
    "                    \n",
    "            \n",
    "    def hash_function(self,key):\n",
    "        \n",
    "        return abs(hash(key)) % self.size\n",
    "    \n",
    "    def rehash(self,old_hash):\n",
    "        \n",
    "        return (old_hash + 1) % self.size \n",
    "    \n",
    "    def __setitem__(self,key,value):\n",
    "        self.put(key,value)\n",
    "        \n",
    "    def get(self,key):\n",
    "        \n",
    "        start_position = self.hash_function(key)\n",
    "        current_position = start_position\n",
    "        \n",
    "        while self.slots[current_position] != None:\n",
    "            \n",
    "            if self.slots[current_position] == key:\n",
    "                return self.data[current_position]\n",
    "            \n",
    "            current_postion = self.rehash(current_position)\n",
    "            \n",
    "            if current_position == start_position:\n",
    "                return \"Not Found\"\n",
    "        return \"Not Found\"\n",
    "                \n",
    "    def __getitem__(self,key):\n",
    "        return self.get(key)\n",
    "    \n",
    "    def __str__(self):\n",
    "        for i in range(len(self.slots)):\n",
    "            if self.slots[i] != None:\n",
    "                print(self.slots[i],\":\",self.data[i],end=\" \")\n",
    "        return \"\""
   ]
  },
  {
   "cell_type": "code",
   "execution_count": 95,
   "id": "09d286c8",
   "metadata": {},
   "outputs": [],
   "source": [
    "d1 = Dictionary(3)"
   ]
  },
  {
   "cell_type": "code",
   "execution_count": 96,
   "id": "c53d0c2c",
   "metadata": {},
   "outputs": [
    {
     "name": "stdout",
     "output_type": "stream",
     "text": [
      "[None, None, None]\n",
      "[None, None, None]\n"
     ]
    }
   ],
   "source": [
    "print(d1.slots)\n",
    "print(d1.data)"
   ]
  },
  {
   "cell_type": "code",
   "execution_count": 97,
   "id": "82e88e63",
   "metadata": {},
   "outputs": [
    {
     "name": "stdout",
     "output_type": "stream",
     "text": [
      "[None, None, 'python']\n",
      "[None, None, 45]\n"
     ]
    }
   ],
   "source": [
    "d1.put(\"python\",45)\n",
    "print(d1.slots)\n",
    "print(d1.data)"
   ]
  },
  {
   "cell_type": "code",
   "execution_count": 98,
   "id": "02043e33",
   "metadata": {},
   "outputs": [
    {
     "name": "stdout",
     "output_type": "stream",
     "text": [
      "['java', None, 'python']\n",
      "[45, None, 45]\n"
     ]
    }
   ],
   "source": [
    "d1.put(\"java\",45)\n",
    "print(d1.slots)\n",
    "print(d1.data)"
   ]
  },
  {
   "cell_type": "code",
   "execution_count": 99,
   "id": "f438fabc",
   "metadata": {},
   "outputs": [
    {
     "name": "stdout",
     "output_type": "stream",
     "text": [
      "['java', 'php', 'python']\n",
      "[45, 32, 45]\n"
     ]
    }
   ],
   "source": [
    "d1.put(\"php\",32)\n",
    "print(d1.slots)\n",
    "print(d1.data)"
   ]
  },
  {
   "cell_type": "code",
   "execution_count": 100,
   "id": "33250121",
   "metadata": {},
   "outputs": [
    {
     "name": "stdout",
     "output_type": "stream",
     "text": [
      "['java', 'php', 'python']\n",
      "[45, 32, 1000]\n"
     ]
    }
   ],
   "source": [
    "d1.put(\"python\",1000)\n",
    "print(d1.slots)\n",
    "print(d1.data)"
   ]
  },
  {
   "cell_type": "code",
   "execution_count": 101,
   "id": "16fc8537",
   "metadata": {},
   "outputs": [
    {
     "name": "stdout",
     "output_type": "stream",
     "text": [
      "['java', 'php', 'python']\n",
      "[45, 32, 56]\n"
     ]
    }
   ],
   "source": [
    "d1[\"python\"] = 56\n",
    "print(d1.slots)\n",
    "print(d1.data)"
   ]
  },
  {
   "cell_type": "code",
   "execution_count": 102,
   "id": "27cabc40",
   "metadata": {},
   "outputs": [
    {
     "data": {
      "text/plain": [
       "56"
      ]
     },
     "execution_count": 102,
     "metadata": {},
     "output_type": "execute_result"
    }
   ],
   "source": [
    "d1[\"python\"]"
   ]
  },
  {
   "cell_type": "code",
   "execution_count": 103,
   "id": "8c5f5472",
   "metadata": {},
   "outputs": [
    {
     "name": "stdout",
     "output_type": "stream",
     "text": [
      "java : 45 php : 32 python : 56 \n"
     ]
    }
   ],
   "source": [
    "print(d1)"
   ]
  },
  {
   "cell_type": "code",
   "execution_count": null,
   "id": "77ebf7e5",
   "metadata": {},
   "outputs": [],
   "source": []
  },
  {
   "cell_type": "code",
   "execution_count": null,
   "id": "3ba87a9a",
   "metadata": {},
   "outputs": [],
   "source": []
  },
  {
   "cell_type": "code",
   "execution_count": null,
   "id": "97d41cb4",
   "metadata": {},
   "outputs": [],
   "source": []
  }
 ],
 "metadata": {
  "kernelspec": {
   "display_name": "Python 3 (ipykernel)",
   "language": "python",
   "name": "python3"
  },
  "language_info": {
   "codemirror_mode": {
    "name": "ipython",
    "version": 3
   },
   "file_extension": ".py",
   "mimetype": "text/x-python",
   "name": "python",
   "nbconvert_exporter": "python",
   "pygments_lexer": "ipython3",
   "version": "3.11.5"
  }
 },
 "nbformat": 4,
 "nbformat_minor": 5
}
