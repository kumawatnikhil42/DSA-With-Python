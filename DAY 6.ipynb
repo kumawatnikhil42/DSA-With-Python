{
 "cells": [
  {
   "cell_type": "markdown",
   "id": "d658a155",
   "metadata": {},
   "source": [
    "# Stack\n",
    "\n",
    "A stack is linear data structure that follows LIFO(last-in-first-out) principle."
   ]
  },
  {
   "cell_type": "code",
   "execution_count": 24,
   "id": "9256d7b1",
   "metadata": {},
   "outputs": [],
   "source": [
    "# Stack with linked list\n",
    "\n",
    "class Node:\n",
    "    \n",
    "    def __init__(self,value):\n",
    "        self.data = value\n",
    "        self.next = None"
   ]
  },
  {
   "cell_type": "code",
   "execution_count": 129,
   "id": "3e4db43a",
   "metadata": {},
   "outputs": [],
   "source": [
    "class Stack:\n",
    "    def __init__(self):\n",
    "        self.top = None\n",
    "        self.n = 0\n",
    "        \n",
    "        \n",
    "    def isempty(self):\n",
    "        return self.top == None\n",
    "    \n",
    "    # insert from top\n",
    "    def push(self,value):\n",
    "        new_node = Node(value)\n",
    "        \n",
    "        new_node.next = self.top\n",
    "        \n",
    "        self.top = new_node\n",
    "        self.n += 1\n",
    "        \n",
    "    def traverse(self):\n",
    "        \n",
    "        temp = self.top\n",
    "        \n",
    "        while temp != None:\n",
    "            print(temp.data)\n",
    "            temp = temp.next\n",
    "    \n",
    "    # returns top value\n",
    "    def peek(self):\n",
    "        if(self.isempty()):\n",
    "            return \"Stack Empty\"\n",
    "        else:\n",
    "            return self.top.data\n",
    "        \n",
    "    def pop(self):\n",
    "        if(self.isempty()):\n",
    "            return \"Stack Empty\"\n",
    "        else:\n",
    "            data = self.top.data\n",
    "            self.top = self.top.next\n",
    "            self.n -= 1\n",
    "            return data\n",
    "    def size(self):\n",
    "        return self.n\n",
    "        "
   ]
  },
  {
   "cell_type": "code",
   "execution_count": 130,
   "id": "8733018c",
   "metadata": {},
   "outputs": [
    {
     "data": {
      "text/plain": [
       "False"
      ]
     },
     "execution_count": 130,
     "metadata": {},
     "output_type": "execute_result"
    }
   ],
   "source": [
    "s = Stack()\n",
    "s.push(1)\n",
    "s.push(2)\n",
    "s.push(3)\n",
    "s.push(4)\n",
    "s.push(5)\n",
    "s.isempty()"
   ]
  },
  {
   "cell_type": "code",
   "execution_count": 131,
   "id": "1d5f8331",
   "metadata": {},
   "outputs": [
    {
     "name": "stdout",
     "output_type": "stream",
     "text": [
      "5\n",
      "4\n",
      "3\n",
      "2\n",
      "1\n"
     ]
    }
   ],
   "source": [
    "s.traverse()\n"
   ]
  },
  {
   "cell_type": "code",
   "execution_count": 132,
   "id": "7b7d68d1",
   "metadata": {},
   "outputs": [
    {
     "data": {
      "text/plain": [
       "5"
      ]
     },
     "execution_count": 132,
     "metadata": {},
     "output_type": "execute_result"
    }
   ],
   "source": [
    "s.peek()"
   ]
  },
  {
   "cell_type": "code",
   "execution_count": 133,
   "id": "e469e23f",
   "metadata": {},
   "outputs": [
    {
     "name": "stdout",
     "output_type": "stream",
     "text": [
      "4\n",
      "3\n",
      "2\n",
      "1\n"
     ]
    }
   ],
   "source": [
    "s.pop()\n",
    "s.traverse()"
   ]
  },
  {
   "cell_type": "markdown",
   "id": "b8f3e05b",
   "metadata": {},
   "source": [
    "# Practise Questions:"
   ]
  },
  {
   "cell_type": "code",
   "execution_count": 134,
   "id": "301a38b0",
   "metadata": {},
   "outputs": [],
   "source": [
    "# Q1\n",
    "def reverse_string(text):\n",
    "    \n",
    "    s = Stack()\n",
    "    \n",
    "    for i in text:\n",
    "        s.push(i)\n",
    "    res = \"\"\n",
    "    \n",
    "    while(not s.isempty()):\n",
    "        res = res + s.pop()\n",
    "    \n",
    "    print(res)"
   ]
  },
  {
   "cell_type": "code",
   "execution_count": 135,
   "id": "b601a2e2",
   "metadata": {},
   "outputs": [
    {
     "name": "stdout",
     "output_type": "stream",
     "text": [
      "olleh\n"
     ]
    }
   ],
   "source": [
    "reverse_string(\"hello\")"
   ]
  },
  {
   "cell_type": "code",
   "execution_count": 136,
   "id": "ae74bb73",
   "metadata": {},
   "outputs": [],
   "source": [
    "# Q2\n",
    "def ur(text,op):\n",
    "    \n",
    "    s1 = Stack()\n",
    "    s2 = Stack()\n",
    "    res = \"\"\n",
    "    \n",
    "    for i in text:\n",
    "        s1.push(i)\n",
    "    for j in op:\n",
    "        if(j==\"u\"):\n",
    "            data = s1.pop()\n",
    "            s2.push(data)\n",
    "            \n",
    "        elif(j==\"r\"):\n",
    "            data = s2.pop()\n",
    "\n",
    "            s1.push(data) \n",
    "            \n",
    "    \n",
    "    while(not s1.isempty()):\n",
    "        res = s1.pop() + res\n",
    "    print(res)"
   ]
  },
  {
   "cell_type": "code",
   "execution_count": 137,
   "id": "51a5f9fa",
   "metadata": {},
   "outputs": [
    {
     "name": "stdout",
     "output_type": "stream",
     "text": [
      "hel\n"
     ]
    }
   ],
   "source": [
    "ur(\"hello\",\"urruuu\")"
   ]
  },
  {
   "cell_type": "code",
   "execution_count": 178,
   "id": "d913f786",
   "metadata": {},
   "outputs": [],
   "source": [
    "# Q3\n",
    "l = [\n",
    "    [0,0,1,1],\n",
    "    [0,0,0,1],\n",
    "    [0,0,0,1],\n",
    "    [0,0,0,0]\n",
    "]"
   ]
  },
  {
   "cell_type": "code",
   "execution_count": 179,
   "id": "5eb23426",
   "metadata": {},
   "outputs": [],
   "source": [
    "def celebrity(l):\n",
    "    s = Stack()\n",
    "    \n",
    "    for i in range(len(l)):\n",
    "        s.push(i)\n",
    "    while s.size() >= 2:\n",
    "        k = s.pop()\n",
    "        j = s.pop()\n",
    "        \n",
    "        if l[k][j] == 0:\n",
    "            s.push(k)\n",
    "        else:\n",
    "            s.push(j)\n",
    "    \n",
    "    celeb = s.pop()       \n",
    "    for i in range(len(l)):\n",
    "        if i != celeb:\n",
    "            if l[i][celeb] == 0 or l[celeb][i] == 1:\n",
    "                print(\"No one is celebrity\")\n",
    "                return\n",
    "    print(\"The celebrity is\",celeb)"
   ]
  },
  {
   "cell_type": "code",
   "execution_count": 180,
   "id": "a4913f2a",
   "metadata": {},
   "outputs": [
    {
     "name": "stdout",
     "output_type": "stream",
     "text": [
      "The celebrity is 3\n"
     ]
    }
   ],
   "source": [
    "celebrity(l)"
   ]
  },
  {
   "cell_type": "code",
   "execution_count": 208,
   "id": "19592312",
   "metadata": {},
   "outputs": [],
   "source": [
    "# Q4\n",
    "\n",
    "def paranthesis(text):\n",
    "    \n",
    "    s = Stack()\n",
    "    \n",
    "    for i in text:\n",
    "        if i in (\"{\",\"[\",\"(\"):\n",
    "            s.push(i)\n",
    "        elif i in (\"}\",\"]\",\")\"):\n",
    "            if s.isempty():\n",
    "                return False\n",
    "            elif i == \")\" and s.peek() == \"(\":\n",
    "                s.pop()\n",
    "            elif i == \"]\" and s.peek() == \"[\":\n",
    "                s.pop()\n",
    "            elif i == \"}\" and s.peek() == \"{\":\n",
    "                s.pop()\n",
    "            else:\n",
    "                return False\n",
    "    return s.size() == 0\n",
    "    \n",
    "\n",
    "    "
   ]
  },
  {
   "cell_type": "code",
   "execution_count": 209,
   "id": "64f0bcea",
   "metadata": {},
   "outputs": [
    {
     "data": {
      "text/plain": [
       "True"
      ]
     },
     "execution_count": 209,
     "metadata": {},
     "output_type": "execute_result"
    }
   ],
   "source": [
    "paranthesis(\"{[(a+b)]}\")"
   ]
  },
  {
   "cell_type": "code",
   "execution_count": 211,
   "id": "6283528e",
   "metadata": {},
   "outputs": [
    {
     "data": {
      "text/plain": [
       "True"
      ]
     },
     "execution_count": 211,
     "metadata": {},
     "output_type": "execute_result"
    }
   ],
   "source": [
    "paranthesis(\"{[]()}\")"
   ]
  },
  {
   "cell_type": "code",
   "execution_count": null,
   "id": "47f1b3ad",
   "metadata": {},
   "outputs": [],
   "source": []
  }
 ],
 "metadata": {
  "kernelspec": {
   "display_name": "Python 3 (ipykernel)",
   "language": "python",
   "name": "python3"
  },
  "language_info": {
   "codemirror_mode": {
    "name": "ipython",
    "version": 3
   },
   "file_extension": ".py",
   "mimetype": "text/x-python",
   "name": "python",
   "nbconvert_exporter": "python",
   "pygments_lexer": "ipython3",
   "version": "3.11.5"
  }
 },
 "nbformat": 4,
 "nbformat_minor": 5
}
