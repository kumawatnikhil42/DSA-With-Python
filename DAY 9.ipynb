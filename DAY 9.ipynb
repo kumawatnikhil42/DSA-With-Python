{
 "cells": [
  {
   "cell_type": "markdown",
   "id": "362cc238",
   "metadata": {},
   "source": [
    "# Linear Search\n",
    "\n",
    "time complexity is O(n)\n",
    "\n",
    "doesnot need sorting"
   ]
  },
  {
   "cell_type": "code",
   "execution_count": 12,
   "id": "d8149595",
   "metadata": {},
   "outputs": [],
   "source": [
    "def linear_search(arr,item):\n",
    "    \n",
    "    for i in range(len(arr)):\n",
    "        if arr[i] == item:\n",
    "            return i\n",
    "    return -1"
   ]
  },
  {
   "cell_type": "code",
   "execution_count": 17,
   "id": "e6bb906f",
   "metadata": {},
   "outputs": [
    {
     "data": {
      "text/plain": [
       "4"
      ]
     },
     "execution_count": 17,
     "metadata": {},
     "output_type": "execute_result"
    }
   ],
   "source": [
    "arr = [100,32,45,6,7,84,57]\n",
    "\n",
    "linear_search(arr,7)"
   ]
  },
  {
   "cell_type": "markdown",
   "id": "f89cac2c",
   "metadata": {},
   "source": [
    "# Binary Search\n",
    "\n",
    "need sorted array"
   ]
  },
  {
   "cell_type": "code",
   "execution_count": 27,
   "id": "ec84266b",
   "metadata": {},
   "outputs": [],
   "source": [
    "def binary_search(arr,low,high,item):\n",
    "    \n",
    "    print(\"low = \",low,\"high = \",high,end=\" \")\n",
    "    \n",
    "    if low <= high:\n",
    "        \n",
    "        mid = (low + high)//2\n",
    "        print(\"mid value is\",arr[mid])\n",
    "        if arr[mid] == item:\n",
    "            return mid\n",
    "        \n",
    "        elif arr[mid] > item:\n",
    "            return binary_search(arr,low,mid-1,item)\n",
    "        else:\n",
    "            return binary_search(arr,mid+1,high,item)\n",
    "            \n",
    "    else:\n",
    "        return -1"
   ]
  },
  {
   "cell_type": "code",
   "execution_count": 30,
   "id": "f651c398",
   "metadata": {},
   "outputs": [
    {
     "name": "stdout",
     "output_type": "stream",
     "text": [
      "low =  0 high =  11 mid value is 99\n",
      "low =  6 high =  11 mid value is 167\n",
      "low =  6 high =  7 mid value is 101\n",
      "low =  7 high =  7 mid value is 145\n"
     ]
    },
    {
     "data": {
      "text/plain": [
       "7"
      ]
     },
     "execution_count": 30,
     "metadata": {},
     "output_type": "execute_result"
    }
   ],
   "source": [
    "arr = [12,45,56,78,90,99,101,145,167,178,198,289]\n",
    "\n",
    "binary_search(arr,0,len(arr)-1,145)"
   ]
  },
  {
   "cell_type": "markdown",
   "id": "102d0565",
   "metadata": {},
   "source": [
    "# Sorting Algorithms:"
   ]
  },
  {
   "cell_type": "code",
   "execution_count": 36,
   "id": "c1ca01ec",
   "metadata": {},
   "outputs": [],
   "source": [
    "def is_sorted(arr):\n",
    "    \n",
    "    sorted = True\n",
    "    \n",
    "    for i in range(len(arr) - 1):\n",
    "        if arr[i]>arr[i+1]:\n",
    "            sorted = False\n",
    "    return sorted"
   ]
  },
  {
   "cell_type": "code",
   "execution_count": 37,
   "id": "e34c0faa",
   "metadata": {},
   "outputs": [
    {
     "data": {
      "text/plain": [
       "True"
      ]
     },
     "execution_count": 37,
     "metadata": {},
     "output_type": "execute_result"
    }
   ],
   "source": [
    "arr = [1,2,3,4,5,6]\n",
    "is_sorted(arr)"
   ]
  },
  {
   "cell_type": "code",
   "execution_count": 38,
   "id": "2e7a88c4",
   "metadata": {},
   "outputs": [
    {
     "data": {
      "text/plain": [
       "False"
      ]
     },
     "execution_count": 38,
     "metadata": {},
     "output_type": "execute_result"
    }
   ],
   "source": [
    "arr = [1,2,3,4,6,5]\n",
    "is_sorted(arr)"
   ]
  },
  {
   "cell_type": "markdown",
   "id": "d2e1ad44",
   "metadata": {},
   "source": [
    "# Monkey Sort:\n",
    "\n",
    "Time complexity infinite "
   ]
  },
  {
   "cell_type": "code",
   "execution_count": 47,
   "id": "6f4e5125",
   "metadata": {},
   "outputs": [
    {
     "data": {
      "text/plain": [
       "[2, 5, 3, 1, 4]"
      ]
     },
     "execution_count": 47,
     "metadata": {},
     "output_type": "execute_result"
    }
   ],
   "source": [
    "import random\n",
    "a= [1,2,3,4,5]\n",
    "random.shuffle(a) \n",
    "a"
   ]
  },
  {
   "cell_type": "code",
   "execution_count": 48,
   "id": "59845be5",
   "metadata": {},
   "outputs": [],
   "source": [
    "def monkey_sort(arr):\n",
    "    \n",
    "    while not is_sorted(arr):\n",
    "        random.shuffle(arr)\n",
    "#         print(arr)\n",
    "    print(arr)"
   ]
  },
  {
   "cell_type": "code",
   "execution_count": 49,
   "id": "1b3a1564",
   "metadata": {},
   "outputs": [
    {
     "name": "stdout",
     "output_type": "stream",
     "text": [
      "[1, 4, 12, 23, 25, 57]\n"
     ]
    }
   ],
   "source": [
    "arr = [23,1,4,25,57,12]\n",
    "monkey_sort(arr)"
   ]
  },
  {
   "cell_type": "markdown",
   "id": "c6b15232",
   "metadata": {},
   "source": [
    "# Bubble Sort:\n",
    "\n",
    "Worst case time complexity O(n**2)\n",
    "\n",
    "Best case time complexity O(n)\n",
    "\n",
    "Space complexity 1\n",
    "\n",
    "It is not adaptive algorithm but we can make it adaptive"
   ]
  },
  {
   "cell_type": "code",
   "execution_count": 57,
   "id": "8eab04e3",
   "metadata": {},
   "outputs": [],
   "source": [
    "def bubble_sort(arr):\n",
    "    \n",
    "    # no. of passes (n-1)\n",
    "    for i in range(len(arr)-1):\n",
    "        flag = 0\n",
    "        \n",
    "        # no. of pair ((n-1))\n",
    "        for j in range(len(arr)-1-i):\n",
    "            \n",
    "            if arr[j] > arr[j+1]:\n",
    "                arr[j],arr[j+1] = arr[j+1],arr[j]\n",
    "                flag = 1\n",
    "                \n",
    "        if flag == 0:\n",
    "            break\n",
    "    print(arr)"
   ]
  },
  {
   "cell_type": "code",
   "execution_count": 58,
   "id": "fa5022ee",
   "metadata": {},
   "outputs": [
    {
     "name": "stdout",
     "output_type": "stream",
     "text": [
      "[1, 2, 5, 11, 12, 23, 45]\n"
     ]
    }
   ],
   "source": [
    "arr = [12,23,45,1,2,11,5]\n",
    "\n",
    "bubble_sort(arr)"
   ]
  },
  {
   "cell_type": "code",
   "execution_count": null,
   "id": "a9a67633",
   "metadata": {},
   "outputs": [],
   "source": []
  }
 ],
 "metadata": {
  "kernelspec": {
   "display_name": "Python 3 (ipykernel)",
   "language": "python",
   "name": "python3"
  },
  "language_info": {
   "codemirror_mode": {
    "name": "ipython",
    "version": 3
   },
   "file_extension": ".py",
   "mimetype": "text/x-python",
   "name": "python",
   "nbconvert_exporter": "python",
   "pygments_lexer": "ipython3",
   "version": "3.11.5"
  }
 },
 "nbformat": 4,
 "nbformat_minor": 5
}
