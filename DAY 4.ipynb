{
 "cells": [
  {
   "cell_type": "markdown",
   "id": "1a250713",
   "metadata": {},
   "source": [
    "# Linked List\n",
    "\n",
    "It is a collection of nodes and it stores data in non-continuous location.\n",
    "\n",
    "1st node is head and last node is tail(none)."
   ]
  },
  {
   "cell_type": "code",
   "execution_count": 10,
   "id": "7721485d",
   "metadata": {},
   "outputs": [],
   "source": [
    "# Individual nodes to create linked list \n",
    "class Node:\n",
    "    \n",
    "    def __init__(self,value):\n",
    "        self.data = value\n",
    "        self.next = None      "
   ]
  },
  {
   "cell_type": "code",
   "execution_count": 11,
   "id": "a6bb9bc7",
   "metadata": {},
   "outputs": [],
   "source": [
    "a = Node(1)\n",
    "b = Node(2)\n",
    "c = Node(3)"
   ]
  },
  {
   "cell_type": "code",
   "execution_count": 12,
   "id": "e7cd5dfc",
   "metadata": {},
   "outputs": [
    {
     "name": "stdout",
     "output_type": "stream",
     "text": [
      "1864823939984\n",
      "1864823939984\n",
      "1864787748432\n",
      "1864787748432\n"
     ]
    }
   ],
   "source": [
    "a.next = b\n",
    "b.next = c\n",
    "\n",
    "print(id(a.next))\n",
    "print(id(b))\n",
    "print(id(b.next))\n",
    "print(id(c))"
   ]
  },
  {
   "cell_type": "code",
   "execution_count": 259,
   "id": "f575c931",
   "metadata": {},
   "outputs": [],
   "source": [
    "# create linked list\n",
    "class LinkedList:\n",
    "    \n",
    "    def __init__(self):\n",
    "        # create a empty linked list( 0 nodes)\n",
    "        self.head = None\n",
    "        self.n = 0  # no. of nodes \n",
    "        \n",
    "    def __len__(self):\n",
    "        return self.n\n",
    "    \n",
    "    # insert from head\n",
    "    def insert_head(self,value):\n",
    "        \n",
    "        # new node\n",
    "        new_node = Node(value)\n",
    "        \n",
    "        #create connection\n",
    "        new_node.next = self.head\n",
    "        \n",
    "        #resassign head\n",
    "        self.head = new_node\n",
    "        \n",
    "        # increment n\n",
    "        self.n += 1 \n",
    "    \n",
    "    # print linked list\n",
    "    def __str__(self):\n",
    "        \n",
    "        curr = self.head\n",
    "        \n",
    "        result = \"\"\n",
    "        while curr != None:\n",
    "            result = result + str(curr.data) + \"->\"  \n",
    "            curr = curr.next\n",
    "            \n",
    "        return result[:-2]\n",
    "    \n",
    "    \n",
    "    def append(self,value):\n",
    "            \n",
    "        new_node = Node(value)\n",
    "        \n",
    "        if self.head == None:\n",
    "            self.head = new_node\n",
    "            self.n += 1\n",
    "            return\n",
    "            \n",
    "        curr = self.head\n",
    "        \n",
    "        while curr.next != None:\n",
    "            curr = curr.next\n",
    "            \n",
    "        # you are at the last node\n",
    "        curr.next =new_node\n",
    "        \n",
    "        self.n += 1\n",
    "       \n",
    "    # insert after the value\n",
    "    def insert_after(self,after,value):\n",
    "        \n",
    "        new_node = Node(value)\n",
    "        \n",
    "        curr = self.head\n",
    "        \n",
    "        while curr != None:\n",
    "            if curr.data == after:\n",
    "                break\n",
    "            curr = curr.next\n",
    "        \n",
    "        \n",
    "        if curr != None:\n",
    "            new_node.next = curr.next\n",
    "            curr.next = new_node\n",
    "            self.n += 1\n",
    "        else:\n",
    "            return \"Item not found\"\n",
    "        \n",
    "    # empty linked list\n",
    "    def clear(self):\n",
    "        self.head = None\n",
    "        self.n = 0\n",
    "    \n",
    "    # delete head   \n",
    "    def delete_head(self):\n",
    "        if self.head == None:\n",
    "            return \"Empty LinkedList\"\n",
    "        self.head = self.head.next\n",
    "        self.n -= 1\n",
    "       \n",
    "    # pop delete tail\n",
    "    def pop(self):\n",
    "        if self.head == None:\n",
    "            return \"Empty LinkedList\"\n",
    "        curr = self.head \n",
    "        if curr.next == None:\n",
    "            return self.delete_head()\n",
    "        while curr.next.next != None:\n",
    "            curr = curr.next\n",
    "            \n",
    "        # you are at the last node\n",
    "        curr.next = None\n",
    "        \n",
    "        self.n -= 1\n",
    "        \n",
    "    # remove\n",
    "    def remove(self,value):\n",
    "        if self.head == None:\n",
    "            return \"Empty LinkedList\"\n",
    "        if self.head.data == value:\n",
    "            return self.delete_head()\n",
    "        curr = self.head\n",
    "        \n",
    "        while curr.next != None:\n",
    "            if curr.next.data == value:\n",
    "                break\n",
    "            curr = curr.next\n",
    "            \n",
    "        if curr.next == None:\n",
    "            return \"Not Found\"\n",
    "        else:\n",
    "            curr.next = curr.next.next\n",
    "            self.n -= 1\n",
    "    \n",
    "    # find index by value\n",
    "    def search(self,value):\n",
    "        curr = self.head\n",
    "        pos = 0\n",
    "        while curr != None:\n",
    "            if curr.data == value:\n",
    "                return pos\n",
    "            curr = curr.next\n",
    "            pos = pos +1\n",
    "        return \"Not Found\"\n",
    "    \n",
    "    # indexing \n",
    "    def __getitem__(self,index):\n",
    "        \n",
    "        curr = self.head\n",
    "        pos = 0\n",
    "        while curr != None:\n",
    "            if pos == index:\n",
    "                return curr.data\n",
    "            curr = curr.next\n",
    "            pos += 1\n",
    "        return \"Index Error\"   "
   ]
  },
  {
   "cell_type": "code",
   "execution_count": 260,
   "id": "17a3b01e",
   "metadata": {},
   "outputs": [
    {
     "name": "stdout",
     "output_type": "stream",
     "text": [
      "\n"
     ]
    },
    {
     "data": {
      "text/plain": [
       "5"
      ]
     },
     "execution_count": 260,
     "metadata": {},
     "output_type": "execute_result"
    }
   ],
   "source": [
    "l = LinkedList()\n",
    "print(l)\n",
    "\n",
    "len(l)\n",
    "\n",
    "l.insert_head(1)\n",
    "l.insert_head(2)\n",
    "l.insert_head(3)\n",
    "l.insert_head(4)\n",
    "l.insert_head(6)\n",
    "len(l)\n"
   ]
  },
  {
   "cell_type": "code",
   "execution_count": 98,
   "id": "08b74ca3",
   "metadata": {},
   "outputs": [
    {
     "name": "stdout",
     "output_type": "stream",
     "text": [
      "6->4->3->2->1\n"
     ]
    }
   ],
   "source": [
    "print(l)"
   ]
  },
  {
   "cell_type": "code",
   "execution_count": 99,
   "id": "3085f226",
   "metadata": {},
   "outputs": [
    {
     "name": "stdout",
     "output_type": "stream",
     "text": [
      "6->4->3->2->1->5\n"
     ]
    },
    {
     "data": {
      "text/plain": [
       "6"
      ]
     },
     "execution_count": 99,
     "metadata": {},
     "output_type": "execute_result"
    }
   ],
   "source": [
    "l.append(5)\n",
    "print(l)\n",
    "len(l)"
   ]
  },
  {
   "cell_type": "code",
   "execution_count": 100,
   "id": "0f1c8863",
   "metadata": {},
   "outputs": [
    {
     "data": {
      "text/plain": [
       "'Item not found'"
      ]
     },
     "execution_count": 100,
     "metadata": {},
     "output_type": "execute_result"
    }
   ],
   "source": [
    "l.insert_after(20,100)\n"
   ]
  },
  {
   "cell_type": "code",
   "execution_count": 101,
   "id": "97a69a3b",
   "metadata": {},
   "outputs": [
    {
     "data": {
      "text/plain": [
       "6"
      ]
     },
     "execution_count": 101,
     "metadata": {},
     "output_type": "execute_result"
    }
   ],
   "source": [
    "len(l)"
   ]
  },
  {
   "cell_type": "code",
   "execution_count": 103,
   "id": "927c51bf",
   "metadata": {},
   "outputs": [
    {
     "data": {
      "text/plain": [
       "0"
      ]
     },
     "execution_count": 103,
     "metadata": {},
     "output_type": "execute_result"
    }
   ],
   "source": [
    "l.clear()\n",
    "len(l)"
   ]
  },
  {
   "cell_type": "code",
   "execution_count": 112,
   "id": "75d29a28",
   "metadata": {},
   "outputs": [
    {
     "name": "stdout",
     "output_type": "stream",
     "text": [
      "6->4->3->2->1\n",
      "4->3->2->1\n"
     ]
    }
   ],
   "source": [
    "print(l)\n",
    "l.delete_head()\n",
    "print(l)"
   ]
  },
  {
   "cell_type": "code",
   "execution_count": 113,
   "id": "9e121464",
   "metadata": {},
   "outputs": [
    {
     "data": {
      "text/plain": [
       "4"
      ]
     },
     "execution_count": 113,
     "metadata": {},
     "output_type": "execute_result"
    }
   ],
   "source": [
    "len(l)"
   ]
  },
  {
   "cell_type": "code",
   "execution_count": 182,
   "id": "cf6840d4",
   "metadata": {},
   "outputs": [
    {
     "name": "stdout",
     "output_type": "stream",
     "text": [
      "6->4->3->2->1\n",
      "6->4->3->2\n"
     ]
    },
    {
     "data": {
      "text/plain": [
       "4"
      ]
     },
     "execution_count": 182,
     "metadata": {},
     "output_type": "execute_result"
    }
   ],
   "source": [
    "print(l)\n",
    "l.pop()\n",
    "print(l)\n",
    "len(l)"
   ]
  },
  {
   "cell_type": "code",
   "execution_count": 235,
   "id": "d067e6be",
   "metadata": {},
   "outputs": [
    {
     "name": "stdout",
     "output_type": "stream",
     "text": [
      "6->4->3->1\n"
     ]
    },
    {
     "data": {
      "text/plain": [
       "4"
      ]
     },
     "execution_count": 235,
     "metadata": {},
     "output_type": "execute_result"
    }
   ],
   "source": [
    "l.remove(2)\n",
    "print(l)\n",
    "len(l)"
   ]
  },
  {
   "cell_type": "code",
   "execution_count": 254,
   "id": "7939f81f",
   "metadata": {},
   "outputs": [
    {
     "name": "stdout",
     "output_type": "stream",
     "text": [
      "6->4->3->2->1\n"
     ]
    },
    {
     "data": {
      "text/plain": [
       "2"
      ]
     },
     "execution_count": 254,
     "metadata": {},
     "output_type": "execute_result"
    }
   ],
   "source": [
    "print(l)\n",
    "l.search(6)\n",
    "l.search(3)"
   ]
  },
  {
   "cell_type": "code",
   "execution_count": 261,
   "id": "e15d5f6b",
   "metadata": {},
   "outputs": [
    {
     "name": "stdout",
     "output_type": "stream",
     "text": [
      "6->4->3->2->1\n"
     ]
    },
    {
     "data": {
      "text/plain": [
       "3"
      ]
     },
     "execution_count": 261,
     "metadata": {},
     "output_type": "execute_result"
    }
   ],
   "source": [
    "print(l)\n",
    "l[2]"
   ]
  },
  {
   "cell_type": "code",
   "execution_count": null,
   "id": "7fa6f8e2",
   "metadata": {},
   "outputs": [],
   "source": []
  }
 ],
 "metadata": {
  "kernelspec": {
   "display_name": "Python 3 (ipykernel)",
   "language": "python",
   "name": "python3"
  },
  "language_info": {
   "codemirror_mode": {
    "name": "ipython",
    "version": 3
   },
   "file_extension": ".py",
   "mimetype": "text/x-python",
   "name": "python",
   "nbconvert_exporter": "python",
   "pygments_lexer": "ipython3",
   "version": "3.11.5"
  }
 },
 "nbformat": 4,
 "nbformat_minor": 5
}
