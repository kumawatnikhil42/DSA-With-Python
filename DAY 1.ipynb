{
 "cells": [
  {
   "cell_type": "markdown",
   "id": "154e5704",
   "metadata": {},
   "source": [
    "# Techniques to measure time efficiency\n",
    "\n",
    "1. Measuring time to execute\n",
    "2. Counting operations involved\n",
    "3. Abstract notion of order of growth\n"
   ]
  },
  {
   "cell_type": "markdown",
   "id": "a8c33e47",
   "metadata": {},
   "source": [
    "# 1. Measuring Time:"
   ]
  },
  {
   "cell_type": "code",
   "execution_count": 10,
   "id": "32334202",
   "metadata": {},
   "outputs": [
    {
     "name": "stdout",
     "output_type": "stream",
     "text": [
      "1 2 3 4 5 6 7 8 9 10 11 12 13 14 15 16 17 18 19 20 21 22 23 24 25 26 27 28 29 30 31 32 33 34 35 36 37 38 39 40 41 42 43 44 45 46 47 48 49 50 51 52 53 54 55 56 57 58 59 60 61 62 63 64 65 66 67 68 69 70 71 72 73 74 75 76 77 78 79 80 81 82 83 84 85 86 87 88 89 90 91 92 93 94 95 96 97 98 99 100 \n",
      "\n",
      "Time :  0.0012850761413574219\n"
     ]
    }
   ],
   "source": [
    "\n",
    "import time\n",
    "\n",
    "start = time.time() \n",
    "for i in range(1,101):\n",
    "    print(i,end=\" \")\n",
    "print(\"\\n\\nTime : \",time.time()-start)"
   ]
  },
  {
   "cell_type": "code",
   "execution_count": 11,
   "id": "0e00885f",
   "metadata": {},
   "outputs": [
    {
     "name": "stdout",
     "output_type": "stream",
     "text": [
      "1 2 3 4 5 6 7 8 9 10 11 12 13 14 15 16 17 18 19 20 21 22 23 24 25 26 27 28 29 30 31 32 33 34 35 36 37 38 39 40 41 42 43 44 45 46 47 48 49 50 51 52 53 54 55 56 57 58 59 60 61 62 63 64 65 66 67 68 69 70 71 72 73 74 75 76 77 78 79 80 81 82 83 84 85 86 87 88 89 90 91 92 93 94 95 96 97 98 99 100 \n",
      "\n",
      "Time :  1.1443419456481934\n"
     ]
    }
   ],
   "source": [
    "k=1\n",
    "while k<101:\n",
    "    print(k,end=\" \")\n",
    "    k+=1\n",
    "print(\"\\n\\nTime : \",time.time()-start)"
   ]
  },
  {
   "cell_type": "code",
   "execution_count": 12,
   "id": "ebfdad4e",
   "metadata": {},
   "outputs": [],
   "source": [
    "# problems with this approach\n",
    "# 1. Different time for different algorithm\n",
    "# 2. Time varies if implementation changes(ex: for loop and while loop)\n",
    "# 3. Different machines different time\n",
    "# 4. Does not work for extremely small input\n",
    "# 5. Time varies for different inputs, but can't establish a relationship"
   ]
  },
  {
   "cell_type": "markdown",
   "id": "7592142b",
   "metadata": {},
   "source": [
    "# 2. Counting Operations:"
   ]
  },
  {
   "cell_type": "code",
   "execution_count": 14,
   "id": "c9d56d9f",
   "metadata": {},
   "outputs": [],
   "source": [
    "def c_to_f(c):                \n",
    "    return c*9.0/5 + 32   # 3 operations\n"
   ]
  },
  {
   "cell_type": "code",
   "execution_count": 15,
   "id": "15e3f89d",
   "metadata": {},
   "outputs": [],
   "source": [
    "def mysum(x):                 \n",
    "    total = 0   # 1 op\n",
    "    for i in range(x+1): # 1 op   #x times op \n",
    "        total += i  # 2 op\n",
    "    return total  \n",
    "  # 1+3x op"
   ]
  },
  {
   "cell_type": "code",
   "execution_count": 17,
   "id": "5ede3384",
   "metadata": {},
   "outputs": [],
   "source": [
    "# problems with this approach\n",
    "# 1. Time varies if implementation changes\n",
    "# 2. No clear definition of which operation to count"
   ]
  },
  {
   "cell_type": "markdown",
   "id": "40284b73",
   "metadata": {},
   "source": [
    "# 3. Order of Growth: "
   ]
  },
  {
   "cell_type": "code",
   "execution_count": 18,
   "id": "0f431355",
   "metadata": {},
   "outputs": [],
   "source": [
    "# Goals:\n",
    "#     1. Want to evaluate program's efficiency when input is very big\n",
    "#     2. Want to express the growth of program's run time as input size grows\n",
    "#     3. Want to put an upper bound on growth- as tight as possible\n",
    "#     4. do not  need to be precise: \"order of\" not \"exact\" growth\n",
    "#     5. We will look at largest factors in run time(which section of the program will take the longest to run?)\n",
    "#     6. Thus, generally we want tight upper bound on growth, as function of size of input, in worst case"
   ]
  },
  {
   "cell_type": "code",
   "execution_count": 19,
   "id": "6572cf87",
   "metadata": {},
   "outputs": [],
   "source": [
    "# Measuring order of growth : big OH notation\n",
    "\n",
    "# - Big Oh notation measures an upper bound on the asymptotic growth, often called order of growth\n",
    "# - Big Oh or O() is used to describe worst case\n",
    "#    -worst case occurs often and is the bottleneck when a program runs\n",
    "#    -express rate of growth of program relative to the input size\n",
    "#    -evaluate algorith NOT machine or implementation"
   ]
  },
  {
   "cell_type": "code",
   "execution_count": 21,
   "id": "aed9f3e4",
   "metadata": {},
   "outputs": [],
   "source": [
    "def fact_iter(n):\n",
    "    \"\"\" assumes n  an int >= 0 \"\"\"\n",
    "    answer = 1\n",
    "    while n > 1:\n",
    "        answer *= n\n",
    "        n -= 1\n",
    "    return answer\n",
    "\n",
    "# computes factorial\n",
    "# number of steps: 1+5n\n",
    "# worst case asymptotic complexcity: o(n)\n",
    "#    -ignore additive constants\n",
    "#    -ignore mutiplicative constants\n",
    "#     1+5n => 5n => n    (order of n)"
   ]
  },
  {
   "cell_type": "code",
   "execution_count": 23,
   "id": "3e2a19a0",
   "metadata": {},
   "outputs": [],
   "source": [
    "# Examples:\n",
    "\n",
    "# n**2 + 2n + 2 \n",
    "# => n**2 + 2n => n**2 + n => n**2\n",
    "# O(n**2)\n",
    "\n",
    "# n**2 + 10000n + 3**1000 \n",
    "# => n**2 +10000n => n**2 + n => n**2\n",
    "# O(n**2)\n",
    "\n",
    "# log(n) + n + 4 \n",
    "# => n => n\n",
    "# O(n)\n",
    "\n",
    "# 0.0001*n*log(n) + 300n  \n",
    "# => n*log(n) + n => n*log(n)\n",
    "#O(n*log(n))\n",
    "\n",
    "#2n**30 + 3**n\n",
    "# => n**30 + 3**n => 3**n\n",
    "# O(3**n)"
   ]
  },
  {
   "cell_type": "code",
   "execution_count": 24,
   "id": "42e68e78",
   "metadata": {},
   "outputs": [],
   "source": [
    "# Types of oders of growth:\n",
    "#     1. Constant => ex : indexing of array\n",
    "#     2. Linear \n",
    "#     3. Quadratic\n",
    "#     4. Logarithmic\n",
    "#     5. n*log(n)\n",
    "#     6. Exponential"
   ]
  },
  {
   "cell_type": "code",
   "execution_count": 25,
   "id": "42692563",
   "metadata": {},
   "outputs": [],
   "source": [
    "# O(1) > O(log(n)) > O(n) > O(n log(n)) > O(n**2) > O(2**n)"
   ]
  }
 ],
 "metadata": {
  "kernelspec": {
   "display_name": "Python 3 (ipykernel)",
   "language": "python",
   "name": "python3"
  },
  "language_info": {
   "codemirror_mode": {
    "name": "ipython",
    "version": 3
   },
   "file_extension": ".py",
   "mimetype": "text/x-python",
   "name": "python",
   "nbconvert_exporter": "python",
   "pygments_lexer": "ipython3",
   "version": "3.11.5"
  }
 },
 "nbformat": 4,
 "nbformat_minor": 5
}
