{
 "cells": [
  {
   "cell_type": "markdown",
   "id": "5c046e07",
   "metadata": {},
   "source": [
    "# Selection Sort\n",
    "\n",
    "worst case time complexity O(n**2)\n",
    "\n",
    "space complexity is O(1)\n",
    "\n",
    "it is faster than bubble sort in case of big array\n",
    "\n",
    "it is not adaptive"
   ]
  },
  {
   "cell_type": "code",
   "execution_count": 1,
   "id": "d2a7c8db",
   "metadata": {},
   "outputs": [],
   "source": [
    "def selection_sort(arr):\n",
    "    \n",
    "    # no. of passes (n-1)\n",
    "    for i in range(len(arr)-1):\n",
    "        \n",
    "#         print(i+1,\"pass\",end=\" \")\n",
    "        \n",
    "        min = i\n",
    "        \n",
    "#         print(\"current min is\",arr[min])\n",
    "        \n",
    "        for j in range(i+1,len(arr)):\n",
    "            \n",
    "#             print(\"current item under observation\",arr[j])\n",
    "            \n",
    "            if arr[j] < arr[min]:\n",
    "                \n",
    "#                 print(\"current item is less than min\")\n",
    "                \n",
    "                min = j\n",
    "                \n",
    "#                 print(\"now the min has become \",arr[min])\n",
    "                \n",
    "        arr[min],arr[i] = arr[i],arr[min]\n",
    "#     print(arr)\n",
    "        \n",
    "    "
   ]
  },
  {
   "cell_type": "code",
   "execution_count": 2,
   "id": "6ce9f71e",
   "metadata": {},
   "outputs": [],
   "source": [
    "arr = [12,34,11,90,78,23,48]\n",
    "\n",
    "selection_sort(arr)"
   ]
  },
  {
   "cell_type": "markdown",
   "id": "76c72d97",
   "metadata": {},
   "source": [
    "# Bubble Sort vs Selection Sort"
   ]
  },
  {
   "cell_type": "code",
   "execution_count": 3,
   "id": "8a8fdcbb",
   "metadata": {},
   "outputs": [],
   "source": [
    "def bubble_sort(arr):\n",
    "    \n",
    "    # no. of passes (n-1)\n",
    "    for i in range(len(arr)-1):\n",
    "        flag = 0\n",
    "        \n",
    "        # no. of pair ((n-1))\n",
    "        for j in range(len(arr)-1-i):\n",
    "            \n",
    "            if arr[j] > arr[j+1]:\n",
    "                arr[j],arr[j+1] = arr[j+1],arr[j]\n",
    "                flag = 1\n",
    "                \n",
    "        if flag == 0:\n",
    "            break\n",
    "#     print(arr)"
   ]
  },
  {
   "cell_type": "code",
   "execution_count": 4,
   "id": "70508c7d",
   "metadata": {},
   "outputs": [],
   "source": [
    "l = []\n",
    "import random\n",
    "\n",
    "for i in range(10000):\n",
    "    l.append(random.randint(1,10000))"
   ]
  },
  {
   "cell_type": "code",
   "execution_count": 5,
   "id": "540ba1b2",
   "metadata": {},
   "outputs": [
    {
     "data": {
      "text/plain": [
       "10000"
      ]
     },
     "execution_count": 5,
     "metadata": {},
     "output_type": "execute_result"
    }
   ],
   "source": [
    "len(l)"
   ]
  },
  {
   "cell_type": "code",
   "execution_count": 6,
   "id": "d3ffd425",
   "metadata": {},
   "outputs": [],
   "source": [
    "l1 = l[:]"
   ]
  },
  {
   "cell_type": "code",
   "execution_count": 7,
   "id": "7e15398f",
   "metadata": {},
   "outputs": [
    {
     "name": "stdout",
     "output_type": "stream",
     "text": [
      "Time Taken  5.992660284042358 secs\n"
     ]
    }
   ],
   "source": [
    "import time \n",
    "\n",
    "start = time.time()\n",
    "\n",
    "bubble_sort(l)\n",
    "print(\"Time Taken \",time.time() - start,\"secs\")"
   ]
  },
  {
   "cell_type": "code",
   "execution_count": 8,
   "id": "4b7367bb",
   "metadata": {},
   "outputs": [
    {
     "name": "stdout",
     "output_type": "stream",
     "text": [
      "Time Taken  2.5799379348754883 secs\n"
     ]
    }
   ],
   "source": [
    "start = time.time()\n",
    "selection_sort(l)\n",
    "print(\"Time Taken \",time.time() - start,\"secs\")"
   ]
  },
  {
   "cell_type": "markdown",
   "id": "f6258b41",
   "metadata": {},
   "source": [
    "# Merge Sort\n",
    "\n",
    "time complexity O(n logn)\n",
    "\n",
    "space complexity O(n)\n",
    "\n",
    "it is not adaptive"
   ]
  },
  {
   "cell_type": "code",
   "execution_count": 49,
   "id": "ac5ce73a",
   "metadata": {},
   "outputs": [],
   "source": [
    "def merge_sorted(arr1,arr2,arr):\n",
    "    \n",
    "    i = j = k = 0\n",
    "    \n",
    "    while i < len(arr1) and j < len(arr2):\n",
    "        \n",
    "        if arr1[i]<arr2[j]:\n",
    "            arr[k] = arr1[i]\n",
    "            i += 1\n",
    "            \n",
    "        else:\n",
    "            arr[k]= arr2[j]\n",
    "            j += 1\n",
    "        k += 1\n",
    "    while i < len(arr1):\n",
    "        arr[k] = arr1[i]\n",
    "        i += 1\n",
    "        k += 1\n",
    "    while j < len(arr2):\n",
    "        arr[k] = arr2[j]\n",
    "        j += 1\n",
    "        k += 1\n",
    "#     print(arr)"
   ]
  },
  {
   "cell_type": "code",
   "execution_count": 50,
   "id": "5549959f",
   "metadata": {},
   "outputs": [],
   "source": [
    "arr1 = [1,2,4]\n",
    "arr2 = [3,5,6]\n",
    "arr = [1,2,4,3,5,6]\n",
    "merge_sorted(arr1,arr2,arr)"
   ]
  },
  {
   "cell_type": "code",
   "execution_count": 51,
   "id": "2e8d303f",
   "metadata": {},
   "outputs": [],
   "source": [
    "def merge_sort(arr):\n",
    "    \n",
    "    if len(arr) == 1:\n",
    "        return arr\n",
    "    \n",
    "    mid = len(arr)//2\n",
    "    \n",
    "    left = arr[:mid]\n",
    "    right = arr[mid:]\n",
    "    \n",
    "    merge_sort(left)\n",
    "    \n",
    "    merge_sort(right)\n",
    "    \n",
    "    merge_sorted(left,right,arr)\n"
   ]
  },
  {
   "cell_type": "code",
   "execution_count": 52,
   "id": "ad5579f7",
   "metadata": {},
   "outputs": [
    {
     "name": "stdout",
     "output_type": "stream",
     "text": [
      "[1, 2, 4, 5, 6, 7, 8, 9]\n"
     ]
    }
   ],
   "source": [
    "arr= [2,1,5,8,9,6,7,4]\n",
    "\n",
    "merge_sort(arr)\n",
    "print(arr)"
   ]
  },
  {
   "cell_type": "code",
   "execution_count": null,
   "id": "59521426",
   "metadata": {},
   "outputs": [],
   "source": []
  }
 ],
 "metadata": {
  "kernelspec": {
   "display_name": "Python 3 (ipykernel)",
   "language": "python",
   "name": "python3"
  },
  "language_info": {
   "codemirror_mode": {
    "name": "ipython",
    "version": 3
   },
   "file_extension": ".py",
   "mimetype": "text/x-python",
   "name": "python",
   "nbconvert_exporter": "python",
   "pygments_lexer": "ipython3",
   "version": "3.11.5"
  }
 },
 "nbformat": 4,
 "nbformat_minor": 5
}
