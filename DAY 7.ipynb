{
 "cells": [
  {
   "cell_type": "markdown",
   "id": "2c3acf8b",
   "metadata": {},
   "source": [
    "# Stack using arrays"
   ]
  },
  {
   "cell_type": "code",
   "execution_count": 57,
   "id": "0bdc8a79",
   "metadata": {},
   "outputs": [],
   "source": [
    "class Stack:\n",
    "    \n",
    "    def __init__(self,size):\n",
    "        \n",
    "        self.size = size\n",
    "        self.stack = [None] * self.size\n",
    "        self.top = -1\n",
    "        \n",
    "    def push(self,value):\n",
    "        if self.top == self.size -1:\n",
    "            return \"Overflow\"\n",
    "        else:\n",
    "            self.top+=1\n",
    "            self.stack[self.top] = value\n",
    "            \n",
    "    def pop(self):\n",
    "        if self.top == -1:\n",
    "            return \"Empty\"\n",
    "        else:\n",
    "            data = self.stack[self.top]\n",
    "            self.top -= 1\n",
    "            print(data)\n",
    "            \n",
    "    def traverse(self):\n",
    "        for i in range(self.top + 1):\n",
    "            print(self.stack[i],end= \" \")"
   ]
  },
  {
   "cell_type": "code",
   "execution_count": 58,
   "id": "5a366385",
   "metadata": {},
   "outputs": [
    {
     "name": "stdout",
     "output_type": "stream",
     "text": [
      "4 5 6 "
     ]
    }
   ],
   "source": [
    "s = Stack(3)\n",
    "s.push(4)\n",
    "s.push(5)\n",
    "s.push(6)\n",
    "s.traverse()"
   ]
  },
  {
   "cell_type": "code",
   "execution_count": 52,
   "id": "3e1b35d1",
   "metadata": {},
   "outputs": [
    {
     "name": "stdout",
     "output_type": "stream",
     "text": [
      "6\n",
      "4 5 "
     ]
    }
   ],
   "source": [
    "s.pop()\n",
    "s.traverse()"
   ]
  },
  {
   "cell_type": "markdown",
   "id": "b197bf70",
   "metadata": {},
   "source": [
    "# Queues\n",
    "\n",
    "A queue can be defined as ordered list which enables insert operations to be performed at one end called rear and delete operations to be performed at another end called front.\n",
    "queue can be refered as to be first in first out (fifo) list."
   ]
  },
  {
   "cell_type": "markdown",
   "id": "ad02136e",
   "metadata": {},
   "source": [
    "# Queue using linked list"
   ]
  },
  {
   "cell_type": "code",
   "execution_count": 61,
   "id": "18f81ed2",
   "metadata": {},
   "outputs": [],
   "source": [
    "class Node:\n",
    "    def __init__(self,value):\n",
    "        self.data = value\n",
    "        self.next = None"
   ]
  },
  {
   "cell_type": "code",
   "execution_count": 80,
   "id": "ccba90bf",
   "metadata": {},
   "outputs": [],
   "source": [
    "class Queue:\n",
    "    \n",
    "    def __init__(self):\n",
    "        \n",
    "        self.front = None\n",
    "        self.rear = None\n",
    "    \n",
    "    def enqueue(self,value):\n",
    "        \n",
    "        new_node = Node(value)\n",
    "        \n",
    "        if self.rear == None:\n",
    "            self.front = new_node\n",
    "            self.rear = self.front\n",
    "        else:\n",
    "            self.rear.next = new_node\n",
    "            self.rear = new_node\n",
    "    def dequeue(self):\n",
    "        \n",
    "        if self.front == None:\n",
    "            return \"Empty\"\n",
    "        else:\n",
    "            self.front = self.front.next\n",
    "    \n",
    "    def isempty(self):\n",
    "        return self.front == None\n",
    "    \n",
    "    def size(self):\n",
    "        temp = self.front\n",
    "        counter = 0 \n",
    "        \n",
    "        while temp != None:\n",
    "            counter += 1\n",
    "            temp = temp.next\n",
    "        print(counter)\n",
    "            \n",
    "    def front_item(self):\n",
    "        if self.front == None:\n",
    "            return \"Empty\"\n",
    "        else:\n",
    "            return self.front.data\n",
    "    \n",
    "    def rear_item(self):\n",
    "        if self.front == None:\n",
    "            return \"Empty\"\n",
    "        else:\n",
    "            return self.rear.data\n",
    "    \n",
    "    def traverse(self):\n",
    "        \n",
    "        temp = self.front\n",
    "        \n",
    "        while temp != None:\n",
    "            print(temp.data,end=\" \")\n",
    "            temp = temp.next"
   ]
  },
  {
   "cell_type": "code",
   "execution_count": 81,
   "id": "bc7f7fd0",
   "metadata": {},
   "outputs": [],
   "source": [
    "q = Queue()\n",
    "q.enqueue(1)\n",
    "q.enqueue(2)\n",
    "q.enqueue(3)\n",
    "q.enqueue(4)"
   ]
  },
  {
   "cell_type": "code",
   "execution_count": 82,
   "id": "d220fe6d",
   "metadata": {},
   "outputs": [
    {
     "name": "stdout",
     "output_type": "stream",
     "text": [
      "1 2 3 4 "
     ]
    }
   ],
   "source": [
    "q.traverse()"
   ]
  },
  {
   "cell_type": "code",
   "execution_count": 83,
   "id": "569eec19",
   "metadata": {},
   "outputs": [
    {
     "name": "stdout",
     "output_type": "stream",
     "text": [
      "2 3 4 "
     ]
    }
   ],
   "source": [
    "q.dequeue()\n",
    "q.traverse()"
   ]
  },
  {
   "cell_type": "code",
   "execution_count": 84,
   "id": "1a7a2195",
   "metadata": {},
   "outputs": [
    {
     "data": {
      "text/plain": [
       "4"
      ]
     },
     "execution_count": 84,
     "metadata": {},
     "output_type": "execute_result"
    }
   ],
   "source": [
    "q.rear_item()"
   ]
  },
  {
   "cell_type": "code",
   "execution_count": 85,
   "id": "3a6c3c79",
   "metadata": {},
   "outputs": [
    {
     "data": {
      "text/plain": [
       "2"
      ]
     },
     "execution_count": 85,
     "metadata": {},
     "output_type": "execute_result"
    }
   ],
   "source": [
    "q.front_item()"
   ]
  },
  {
   "cell_type": "code",
   "execution_count": 86,
   "id": "e6dfd2cc",
   "metadata": {},
   "outputs": [
    {
     "name": "stdout",
     "output_type": "stream",
     "text": [
      "3\n"
     ]
    }
   ],
   "source": [
    "q.size()"
   ]
  },
  {
   "cell_type": "code",
   "execution_count": 87,
   "id": "74015d58",
   "metadata": {},
   "outputs": [
    {
     "data": {
      "text/plain": [
       "False"
      ]
     },
     "execution_count": 87,
     "metadata": {},
     "output_type": "execute_result"
    }
   ],
   "source": [
    "q.isempty()"
   ]
  },
  {
   "cell_type": "code",
   "execution_count": null,
   "id": "10310023",
   "metadata": {},
   "outputs": [],
   "source": []
  }
 ],
 "metadata": {
  "kernelspec": {
   "display_name": "Python 3 (ipykernel)",
   "language": "python",
   "name": "python3"
  },
  "language_info": {
   "codemirror_mode": {
    "name": "ipython",
    "version": 3
   },
   "file_extension": ".py",
   "mimetype": "text/x-python",
   "name": "python",
   "nbconvert_exporter": "python",
   "pygments_lexer": "ipython3",
   "version": "3.11.5"
  }
 },
 "nbformat": 4,
 "nbformat_minor": 5
}
