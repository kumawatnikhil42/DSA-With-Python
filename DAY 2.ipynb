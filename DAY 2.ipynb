{
 "cells": [
  {
   "cell_type": "markdown",
   "id": "186554aa",
   "metadata": {},
   "source": [
    "# Practise Questions:"
   ]
  },
  {
   "cell_type": "code",
   "execution_count": 2,
   "id": "17d2d33a",
   "metadata": {},
   "outputs": [
    {
     "name": "stdout",
     "output_type": "stream",
     "text": [
      "15\n",
      "120\n"
     ]
    }
   ],
   "source": [
    "L = [1,2,3,4,5]\n",
    "\n",
    "sum = 0\n",
    "for i in L:\n",
    "    sum = sum + i\n",
    "print(sum)        # O(n)\n",
    "\n",
    "product = 1\n",
    "for i in L:\n",
    "    product = product*i\n",
    "print(product)    #O(n)\n",
    "\n",
    "# O(2n) = O(n)"
   ]
  },
  {
   "cell_type": "code",
   "execution_count": 4,
   "id": "9b6daa6d",
   "metadata": {},
   "outputs": [
    {
     "name": "stdout",
     "output_type": "stream",
     "text": [
      "(1,1)(1,2)(1,3)(1,4)(1,5)(2,1)(2,2)(2,3)(2,4)(2,5)(3,1)(3,2)(3,3)(3,4)(3,5)(4,1)(4,2)(4,3)(4,4)(4,5)(5,1)(5,2)(5,3)(5,4)(5,5)"
     ]
    }
   ],
   "source": [
    "L = [1,2,3,4,5]\n",
    "for i in L:\n",
    "    for j in L:\n",
    "        print('({},{})'.format(i,j) , end=\"\")\n",
    "        \n",
    "# O(n**2)"
   ]
  },
  {
   "cell_type": "code",
   "execution_count": 6,
   "id": "b8ca628d",
   "metadata": {},
   "outputs": [
    {
     "name": "stdout",
     "output_type": "stream",
     "text": [
      "123\n"
     ]
    }
   ],
   "source": [
    "def intToStr(i):\n",
    "    digits = \"0123456789\"\n",
    "    if i == 0:\n",
    "        return \"0\"\n",
    "    result = \"\"\n",
    "    while i > 0:\n",
    "        result = digits[i%10] + result\n",
    "        i = i//10\n",
    "    return result\n",
    "print(intToStr(123))\n",
    "\n",
    "# O(log(n))"
   ]
  },
  {
   "cell_type": "code",
   "execution_count": 11,
   "id": "61fbade5",
   "metadata": {},
   "outputs": [
    {
     "name": "stdout",
     "output_type": "stream",
     "text": [
      "(1,2)(1,3)(1,4)(1,5)(2,3)(2,4)(2,5)(3,4)(3,5)(4,5)"
     ]
    }
   ],
   "source": [
    "L = [1,2,3,4,5]\n",
    "for i in range(0,len(L)): # O(n)\n",
    "    for j in range(i+1,len(L)): # O(n-1)\n",
    "        print('({},{})'.format(L[i],L[j]) , end=\"\")\n",
    "        \n",
    "# O(n**2 - n) => O(n**2)"
   ]
  },
  {
   "cell_type": "code",
   "execution_count": 12,
   "id": "8102f5ed",
   "metadata": {},
   "outputs": [
    {
     "name": "stdout",
     "output_type": "stream",
     "text": [
      "(1,2)(1,3)(1,4)(1,5)(1,6)(2,3)(2,4)(2,5)(2,6)(3,4)(3,5)(3,6)(4,5)(4,6)"
     ]
    }
   ],
   "source": [
    "A = [1,2,3,4]\n",
    "B = [2,3,4,5,6]\n",
    "\n",
    "for i in A:\n",
    "    for j in B:\n",
    "        if i < j:\n",
    "            print('({},{})'.format(i,j) , end=\"\")\n",
    "            \n",
    "# O(nk)"
   ]
  },
  {
   "cell_type": "code",
   "execution_count": 15,
   "id": "aa1588fd",
   "metadata": {},
   "outputs": [
    {
     "name": "stdout",
     "output_type": "stream",
     "text": [
      "(1,2)(1,2)(1,2)(1,2)(1,2)(1,2)(1,2)(1,2)(1,2)(1,2)(1,3)(1,3)(1,3)(1,3)(1,3)(1,3)(1,3)(1,3)(1,3)(1,3)(1,4)(1,4)(1,4)(1,4)(1,4)(1,4)(1,4)(1,4)(1,4)(1,4)(1,5)(1,5)(1,5)(1,5)(1,5)(1,5)(1,5)(1,5)(1,5)(1,5)(1,6)(1,6)(1,6)(1,6)(1,6)(1,6)(1,6)(1,6)(1,6)(1,6)(2,2)(2,2)(2,2)(2,2)(2,2)(2,2)(2,2)(2,2)(2,2)(2,2)(2,3)(2,3)(2,3)(2,3)(2,3)(2,3)(2,3)(2,3)(2,3)(2,3)(2,4)(2,4)(2,4)(2,4)(2,4)(2,4)(2,4)(2,4)(2,4)(2,4)(2,5)(2,5)(2,5)(2,5)(2,5)(2,5)(2,5)(2,5)(2,5)(2,5)(2,6)(2,6)(2,6)(2,6)(2,6)(2,6)(2,6)(2,6)(2,6)(2,6)(3,2)(3,2)(3,2)(3,2)(3,2)(3,2)(3,2)(3,2)(3,2)(3,2)(3,3)(3,3)(3,3)(3,3)(3,3)(3,3)(3,3)(3,3)(3,3)(3,3)(3,4)(3,4)(3,4)(3,4)(3,4)(3,4)(3,4)(3,4)(3,4)(3,4)(3,5)(3,5)(3,5)(3,5)(3,5)(3,5)(3,5)(3,5)(3,5)(3,5)(3,6)(3,6)(3,6)(3,6)(3,6)(3,6)(3,6)(3,6)(3,6)(3,6)(4,2)(4,2)(4,2)(4,2)(4,2)(4,2)(4,2)(4,2)(4,2)(4,2)(4,3)(4,3)(4,3)(4,3)(4,3)(4,3)(4,3)(4,3)(4,3)(4,3)(4,4)(4,4)(4,4)(4,4)(4,4)(4,4)(4,4)(4,4)(4,4)(4,4)(4,5)(4,5)(4,5)(4,5)(4,5)(4,5)(4,5)(4,5)(4,5)(4,5)(4,6)(4,6)(4,6)(4,6)(4,6)(4,6)(4,6)(4,6)(4,6)(4,6)"
     ]
    }
   ],
   "source": [
    "A = [1,2,3,4]\n",
    "B = [2,3,4,5,6]\n",
    "\n",
    "for i in A:\n",
    "    for j in B:\n",
    "        for k in range(10):\n",
    "            print('({},{})'.format(i,j) , end=\"\")\n",
    "            \n",
    "# O(n**2)"
   ]
  },
  {
   "cell_type": "code",
   "execution_count": 20,
   "id": "c6340c2b",
   "metadata": {},
   "outputs": [
    {
     "name": "stdout",
     "output_type": "stream",
     "text": [
      "[5, 4, 3, 2, 1]\n"
     ]
    }
   ],
   "source": [
    "L = [1,2,3,4,5]\n",
    "\n",
    "for i in range(0,len(L)//2):\n",
    "    other = len(L)- i - 1\n",
    "    temp = L[i]\n",
    "    L[i] = L[other]\n",
    "    L[other] = temp\n",
    "\n",
    "print(L)\n",
    "\n",
    "# O(n)"
   ]
  },
  {
   "cell_type": "code",
   "execution_count": 21,
   "id": "80de4801",
   "metadata": {},
   "outputs": [
    {
     "name": "stdout",
     "output_type": "stream",
     "text": [
      "120\n"
     ]
    }
   ],
   "source": [
    "def factorial(n):\n",
    "    \n",
    "    if n == 1:\n",
    "        return 1\n",
    "    else:\n",
    "        return n*factorial(n-1)\n",
    "    \n",
    "print(factorial(5))\n",
    "\n",
    "# O(n)"
   ]
  },
  {
   "cell_type": "code",
   "execution_count": 23,
   "id": "43657384",
   "metadata": {},
   "outputs": [
    {
     "name": "stdout",
     "output_type": "stream",
     "text": [
      "8\n"
     ]
    }
   ],
   "source": [
    "def fib(n):\n",
    "     \n",
    "    if n==1 or n==0:\n",
    "        return 1\n",
    "    else:\n",
    "        return fib(n-1) + fib(n-2)\n",
    "    \n",
    "print(fib(5))\n",
    "\n",
    "# O(2**n)"
   ]
  },
  {
   "cell_type": "code",
   "execution_count": 27,
   "id": "b29c6604",
   "metadata": {},
   "outputs": [
    {
     "name": "stdout",
     "output_type": "stream",
     "text": [
      "1\n",
      "2\n",
      "4\n"
     ]
    },
    {
     "data": {
      "text/plain": [
       "4"
      ]
     },
     "execution_count": 27,
     "metadata": {},
     "output_type": "execute_result"
    }
   ],
   "source": [
    "def power(num):\n",
    "    if num < 1:\n",
    "        return 0\n",
    "    elif num == 1:\n",
    "        print(1)\n",
    "        return 1\n",
    "    else:\n",
    "        prev = power(num//2)\n",
    "        curr = prev*2\n",
    "        print(curr)\n",
    "        return curr\n",
    "    \n",
    "power(4)\n",
    "\n",
    "# O(log(n))"
   ]
  },
  {
   "cell_type": "code",
   "execution_count": 30,
   "id": "65cfb69e",
   "metadata": {},
   "outputs": [
    {
     "data": {
      "text/plain": [
       "1"
      ]
     },
     "execution_count": 30,
     "metadata": {},
     "output_type": "execute_result"
    }
   ],
   "source": [
    "def mod(a,b):\n",
    "    \n",
    "    if b <= 0:\n",
    "        return -1\n",
    "    div = a//b\n",
    "    return a-div*b\n",
    "\n",
    "mod(5,2)\n",
    "\n",
    "# O(constant) or O(1)"
   ]
  },
  {
   "cell_type": "code",
   "execution_count": 36,
   "id": "532cd614",
   "metadata": {},
   "outputs": [
    {
     "data": {
      "text/plain": [
       "15"
      ]
     },
     "execution_count": 36,
     "metadata": {},
     "output_type": "execute_result"
    }
   ],
   "source": [
    "def sum_digits(num):\n",
    "    \n",
    "    sum = 0\n",
    "    while(num > 0):\n",
    "        sum += num % 10\n",
    "        num//=10\n",
    "    return sum\n",
    "\n",
    "sum_digits(12345)\n",
    "\n",
    "# O(log(n))"
   ]
  },
  {
   "cell_type": "code",
   "execution_count": null,
   "id": "0c79fdf5",
   "metadata": {},
   "outputs": [],
   "source": [
    " "
   ]
  }
 ],
 "metadata": {
  "kernelspec": {
   "display_name": "Python 3 (ipykernel)",
   "language": "python",
   "name": "python3"
  },
  "language_info": {
   "codemirror_mode": {
    "name": "ipython",
    "version": 3
   },
   "file_extension": ".py",
   "mimetype": "text/x-python",
   "name": "python",
   "nbconvert_exporter": "python",
   "pygments_lexer": "ipython3",
   "version": "3.11.5"
  }
 },
 "nbformat": 4,
 "nbformat_minor": 5
}
