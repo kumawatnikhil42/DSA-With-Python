{
 "cells": [
  {
   "cell_type": "code",
   "execution_count": 1,
   "id": "d4ad0c3e",
   "metadata": {},
   "outputs": [],
   "source": [
    "class Node:\n",
    "    \n",
    "    def __init__(self,value):\n",
    "        self.data = value\n",
    "        self.next = None      "
   ]
  },
  {
   "cell_type": "code",
   "execution_count": 2,
   "id": "b72cd593",
   "metadata": {},
   "outputs": [],
   "source": [
    "# create linked list\n",
    "class LinkedList:\n",
    "    \n",
    "    def __init__(self):\n",
    "        # create a empty linked list( 0 nodes)\n",
    "        self.head = None\n",
    "        self.n = 0  # no. of nodes \n",
    "        \n",
    "    def __len__(self):\n",
    "        return self.n\n",
    "    \n",
    "    # insert from head\n",
    "    def insert_head(self,value):\n",
    "        \n",
    "        # new node\n",
    "        new_node = Node(value)\n",
    "        \n",
    "        #create connection\n",
    "        new_node.next = self.head\n",
    "        \n",
    "        #resassign head\n",
    "        self.head = new_node\n",
    "        \n",
    "        # increment n\n",
    "        self.n += 1 \n",
    "    \n",
    "    # print linked list\n",
    "    def __str__(self):\n",
    "        \n",
    "        curr = self.head\n",
    "        \n",
    "        result = \"\"\n",
    "        while curr != None:\n",
    "            result = result + str(curr.data) + \" \"  \n",
    "            curr = curr.next\n",
    "            \n",
    "        return result[:-1]\n",
    "    \n",
    "    \n",
    "    def append(self,value):\n",
    "            \n",
    "        new_node = Node(value)\n",
    "        \n",
    "        if self.head == None:\n",
    "            self.head = new_node\n",
    "            self.n += 1\n",
    "            return\n",
    "            \n",
    "        curr = self.head\n",
    "        \n",
    "        while curr.next != None:\n",
    "            curr = curr.next\n",
    "            \n",
    "        # you are at the last node\n",
    "        curr.next =new_node\n",
    "        \n",
    "        self.n += 1\n",
    "       \n",
    "    # insert after the value\n",
    "    def insert_after(self,after,value):\n",
    "        \n",
    "        new_node = Node(value)\n",
    "        \n",
    "        curr = self.head\n",
    "        \n",
    "        while curr != None:\n",
    "            if curr.data == after:\n",
    "                break\n",
    "            curr = curr.next\n",
    "        \n",
    "        \n",
    "        if curr != None:\n",
    "            new_node.next = curr.next\n",
    "            curr.next = new_node\n",
    "            self.n += 1\n",
    "        else:\n",
    "            return \"Item not found\"\n",
    "        \n",
    "    # empty linked list\n",
    "    def clear(self):\n",
    "        self.head = None\n",
    "        self.n = 0\n",
    "    \n",
    "    # delete head   \n",
    "    def delete_head(self):\n",
    "        if self.head == None:\n",
    "            return \"Empty LinkedList\"\n",
    "        self.head = self.head.next\n",
    "        self.n -= 1\n",
    "       \n",
    "    # pop delete tail\n",
    "    def pop(self):\n",
    "        if self.head == None:\n",
    "            return \"Empty LinkedList\"\n",
    "        curr = self.head \n",
    "        if curr.next == None:\n",
    "            return self.delete_head()\n",
    "        while curr.next.next != None:\n",
    "            curr = curr.next\n",
    "            \n",
    "        # you are at the last node\n",
    "        curr.next = None\n",
    "        \n",
    "        self.n -= 1\n",
    "        \n",
    "    # remove\n",
    "    def remove(self,value):\n",
    "        if self.head == None:\n",
    "            return \"Empty LinkedList\"\n",
    "        if self.head.data == value:\n",
    "            return self.delete_head()\n",
    "        curr = self.head\n",
    "        \n",
    "        while curr.next != None:\n",
    "            if curr.next.data == value:\n",
    "                break\n",
    "            curr = curr.next\n",
    "            \n",
    "        if curr.next == None:\n",
    "            return \"Not Found\"\n",
    "        else:\n",
    "            curr.next = curr.next.next\n",
    "            self.n -= 1\n",
    "    \n",
    "    # find index by value\n",
    "    def search(self,value):\n",
    "        curr = self.head\n",
    "        pos = 0\n",
    "        while curr != None:\n",
    "            if curr.data == value:\n",
    "                return pos\n",
    "            curr = curr.next\n",
    "            pos = pos +1\n",
    "        return \"Not Found\"\n",
    "    \n",
    "    # indexing \n",
    "    def __getitem__(self,index):\n",
    "        \n",
    "        curr = self.head\n",
    "        pos = 0\n",
    "        while curr != None:\n",
    "            if pos == index:\n",
    "                return curr.data\n",
    "            curr = curr.next\n",
    "            pos += 1\n",
    "        return \"Index Error\"\n",
    "   \n",
    " # day 5\n",
    "    # replace max\n",
    "    def replace_max(self,value):\n",
    "        curr = self.head\n",
    "        max = curr\n",
    "        \n",
    "        while curr != None:\n",
    "            if curr.data > max.data:\n",
    "                max = curr\n",
    "            curr = curr.next\n",
    "        max.data = value\n",
    "        \n",
    "    # odd position sum\n",
    "    def  sum_odd_nodes(self):\n",
    "        \n",
    "        curr = self.head\n",
    "        counter = 0\n",
    "        result = 0\n",
    "        while curr != None:\n",
    "            if counter%2 != 0:\n",
    "                result = result + curr.data\n",
    "            counter += 1\n",
    "            curr = curr.next\n",
    "        print(result)\n",
    "        \n",
    "    # inplace revserse\n",
    "    def reverse(self):\n",
    "        \n",
    "        prev_node = None\n",
    "        curr_node = self.head\n",
    "        \n",
    "        while curr_node != None:\n",
    "            next_node = curr_node.next\n",
    "            curr_node.next = prev_node\n",
    "            prev_node = curr_node\n",
    "            curr_node = next_node\n",
    "        self.head = prev_node\n",
    "        \n",
    "    # replace signs(\"/\" and \"*\") with single space and (\"//\",\"*/\") with single space and next letter capital\n",
    "    def change(self):\n",
    "        \n",
    "        curr = self.head\n",
    "        \n",
    "        while curr != None:\n",
    "            if curr.data == \"*\" or curr.data == \"/\":\n",
    "                curr.data = \" \"\n",
    "                if curr.next.data == \"*\" or curr.next.data == \"/\":\n",
    "                    curr.next.next.data = curr.next.next.data.upper()\n",
    "                    curr.next = curr.next.next\n",
    "            curr = curr.next"
   ]
  },
  {
   "cell_type": "code",
   "execution_count": 3,
   "id": "77a40afe",
   "metadata": {},
   "outputs": [],
   "source": [
    "l = LinkedList()\n",
    "l.insert_head(1)\n",
    "l.append(2)\n",
    "l.append(6)\n",
    "l.append(4)\n",
    "l.append(3)"
   ]
  },
  {
   "cell_type": "code",
   "execution_count": 4,
   "id": "4a083579",
   "metadata": {},
   "outputs": [
    {
     "name": "stdout",
     "output_type": "stream",
     "text": [
      "1 2 6 4 3\n",
      "1 2 17 4 3\n"
     ]
    }
   ],
   "source": [
    "print(l)\n",
    "l.replace_max(17)\n",
    "print(l)"
   ]
  },
  {
   "cell_type": "code",
   "execution_count": 5,
   "id": "eb31042f",
   "metadata": {},
   "outputs": [
    {
     "name": "stdout",
     "output_type": "stream",
     "text": [
      "6\n"
     ]
    }
   ],
   "source": [
    "l.sum_odd_nodes()"
   ]
  },
  {
   "cell_type": "code",
   "execution_count": 6,
   "id": "216fcfda",
   "metadata": {},
   "outputs": [],
   "source": [
    "l.reverse()"
   ]
  },
  {
   "cell_type": "code",
   "execution_count": 7,
   "id": "01b26b74",
   "metadata": {},
   "outputs": [
    {
     "name": "stdout",
     "output_type": "stream",
     "text": [
      "3 4 17 2 1\n"
     ]
    }
   ],
   "source": [
    "print(l)"
   ]
  },
  {
   "cell_type": "code",
   "execution_count": 8,
   "id": "41ac8440",
   "metadata": {},
   "outputs": [],
   "source": [
    "l1 = LinkedList()\n",
    "l1.insert_head(\"T\")\n",
    "l1.append(\"h\")\n",
    "l1.append(\"e\")\n",
    "l1.append(\"/\")\n",
    "l1.append(\"*\")\n",
    "l1.append(\"s\")\n",
    "l1.append(\"k\")\n",
    "l1.append(\"y\")\n",
    "l1.append(\"*\")\n",
    "l1.append(\"i\")\n",
    "l1.append(\"s\")\n",
    "l1.append(\"/\")\n",
    "l1.append(\"/\")\n",
    "l1.append(\"b\")\n",
    "l1.append(\"l\")\n",
    "l1.append(\"u\")\n",
    "l1.append(\"e\")\n"
   ]
  },
  {
   "cell_type": "code",
   "execution_count": 9,
   "id": "1c2f1130",
   "metadata": {},
   "outputs": [
    {
     "name": "stdout",
     "output_type": "stream",
     "text": [
      "T h e / * s k y * i s / / b l u e\n"
     ]
    },
    {
     "data": {
      "text/plain": [
       "17"
      ]
     },
     "execution_count": 9,
     "metadata": {},
     "output_type": "execute_result"
    }
   ],
   "source": [
    "print(l1)\n",
    "len(l1)"
   ]
  },
  {
   "cell_type": "code",
   "execution_count": 10,
   "id": "fa748530",
   "metadata": {},
   "outputs": [
    {
     "name": "stdout",
     "output_type": "stream",
     "text": [
      "T h e   S k y   i s   B l u e\n"
     ]
    }
   ],
   "source": [
    "l1.change()\n",
    "print(l1)"
   ]
  },
  {
   "cell_type": "code",
   "execution_count": null,
   "id": "230614e5",
   "metadata": {},
   "outputs": [],
   "source": []
  }
 ],
 "metadata": {
  "kernelspec": {
   "display_name": "Python 3 (ipykernel)",
   "language": "python",
   "name": "python3"
  },
  "language_info": {
   "codemirror_mode": {
    "name": "ipython",
    "version": 3
   },
   "file_extension": ".py",
   "mimetype": "text/x-python",
   "name": "python",
   "nbconvert_exporter": "python",
   "pygments_lexer": "ipython3",
   "version": "3.11.5"
  }
 },
 "nbformat": 4,
 "nbformat_minor": 5
}
